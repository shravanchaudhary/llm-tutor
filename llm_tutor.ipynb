{
 "cells": [
  {
   "cell_type": "code",
   "execution_count": 2,
   "metadata": {},
   "outputs": [],
   "source": [
    "import os\n",
    "import googleapiclient.discovery\n",
    "import googleapiclient.errors\n",
    "from dotenv import load_dotenv\n",
    "from openai import OpenAI\n",
    "import json\n",
    "import base64\n",
    "import os\n",
    "\n",
    "load_dotenv()\n",
    "\n",
    "\n",
    "OPENAI_API_KEY=os.environ[\"OPENAI_API_KEY\"]\n",
    "client = OpenAI(api_key=OPENAI_API_KEY)\n",
    "model = \"gpt-3.5-turbo-0125\"\n"
   ]
  },
  {
   "cell_type": "code",
   "execution_count": 86,
   "metadata": {},
   "outputs": [],
   "source": [
    "\n",
    "# Function to encode the image\n",
    "def encode_image(image_path):\n",
    "  with open(image_path, \"rb\") as image_file:\n",
    "    return base64.b64encode(image_file.read()).decode('utf-8')\n",
    "\n",
    "def get_query_from_image(image_path):\n",
    "  # Getting the base64 string\n",
    "  base64_image = encode_image(image_path)\n",
    "  response = client.chat.completions.create(\n",
    "    model=\"gpt-4-vision-preview\",\n",
    "    messages=[\n",
    "      {\n",
    "        \"role\": \"user\",\n",
    "        \"content\": [\n",
    "          {\"type\": \"text\", \"text\": 'Given the image, come up with a youtube query to search for related videos. Respond in given json format: {\"query\": \"surfing\"}'},\n",
    "          {\n",
    "            \"type\": \"image_url\",\n",
    "            \"image_url\": {\n",
    "              \"url\": f\"data:image/jpeg;base64,{base64_image}\",\n",
    "              # \"url\": \"https://upload.wikimedia.org/wikipedia/commons/thumb/d/dd/Gfp-wisconsin-madison-the-nature-boardwalk.jpg/2560px-Gfp-wisconsin-madison-the-nature-boardwalk.jpg\",\n",
    "            },\n",
    "          },\n",
    "        ],\n",
    "      }\n",
    "    ],\n",
    "    max_tokens=300,\n",
    "  )\n",
    "  query = json.loads(response.choices[0].message.content)['query']\n",
    "  print(\"Query from image:\", query)\n",
    "  return query\n",
    "  # return json.loads(response.choices[0]['content'])[\"query\"]\n",
    "\n",
    "\n",
    "def get_tool_get_query_from_image():\n",
    "    return {\n",
    "        \"type\": \"function\",\n",
    "        \"function\": {\n",
    "            \"name\": \"get_query_from_image\",\n",
    "            \"description\": \"Parse input image and get search query for youtube api.\",\n",
    "            \"parameters\": {\n",
    "                \"type\": \"object\",\n",
    "                \"properties\": {\n",
    "                    \"image_path\": {\n",
    "                        \"type\": \"string\",\n",
    "                        \"description\": \"Path to the image to parse.\",\n",
    "                    },\n",
    "                },\n",
    "                \"required\": [\"image_path\"],\n",
    "            },\n",
    "        },\n",
    "    }\n"
   ]
  },
  {
   "cell_type": "code",
   "execution_count": 87,
   "metadata": {},
   "outputs": [],
   "source": [
    "def youtube_search(query):\n",
    "    api_service_name = \"youtube\"\n",
    "    api_version = \"v3\"\n",
    "    api_key = os.environ[\"YOUTUBE_API_KEY\"]\n",
    "\n",
    "    youtube = googleapiclient.discovery.build(\n",
    "        api_service_name, api_version, developerKey=api_key\n",
    "    )\n",
    "\n",
    "    # enable safe search\n",
    "    request = youtube.search().list(\n",
    "        part=\"snippet\", maxResults=5, q=query, safeSearch=\"strict\"\n",
    "    )\n",
    "    response = request.execute()\n",
    "    video_links = [f\"https://www.youtube.com/watch?v={item[\"id\"][\"videoId\"]}\" for item in response[\"items\"]]\n",
    "    print(\"Video links:\", video_links)\n",
    "    return video_links\n",
    "\n",
    "def get_tool_youtube_search():\n",
    "    return {\n",
    "        \"type\": \"function\",\n",
    "        \"function\": {\n",
    "            \"name\": \"youtube_search\",\n",
    "            \"description\": \"Searches for relevant youtube videos based on the query.\",\n",
    "            \"parameters\": {\n",
    "                \"type\": \"object\",\n",
    "                \"properties\": {\n",
    "                    \"query\": {\n",
    "                        \"type\": \"string\",\n",
    "                        \"description\": \"The query to search for.\",\n",
    "                    },\n",
    "                },\n",
    "                \"required\": [\"query\"],\n",
    "            },\n",
    "        },\n",
    "    }"
   ]
  },
  {
   "cell_type": "code",
   "execution_count": 88,
   "metadata": {},
   "outputs": [],
   "source": [
    "\n",
    "def run_conversation(query, image_path):\n",
    "    user_message_content = query\n",
    "    if image_path:\n",
    "       user_message_content += \"\\n Image: \" + image_path\n",
    "    messages = [\n",
    "        {\"role\": \"system\", \"content\": \"You are a tutor. You are helping a student with their queries. You have access to the following tools: youtube_search, get_query_from_image. Use them to provide helpful youtube videos.\"},\n",
    "        {\"role\": \"user\", \"content\": user_message_content}\n",
    "    ]\n",
    "    tools = [get_tool_youtube_search(), get_tool_get_query_from_image()]\n",
    "    response = client.chat.completions.create(\n",
    "        model=model,\n",
    "        messages=messages,\n",
    "        tools=tools,\n",
    "        tool_choice=\"auto\",\n",
    "    )\n",
    "    response_message = response.choices[0].message\n",
    "    tool_calls = response_message.tool_calls\n",
    "    available_functions = {\n",
    "        \"youtube_search\": youtube_search,\n",
    "    }\n",
    "    if tool_calls:\n",
    "        while tool_calls:\n",
    "            messages.append(response_message)\n",
    "            for tool_call in tool_calls:\n",
    "                function_name = tool_call.function.name\n",
    "                function_to_call = available_functions[function_name]\n",
    "                function_args = json.loads(tool_call.function.arguments)\n",
    "                function_response = function_to_call(\n",
    "                    **function_args\n",
    "                )\n",
    "                messages.append(\n",
    "                    {\n",
    "                        \"tool_call_id\": tool_call.id,\n",
    "                        \"role\": \"tool\",\n",
    "                        \"name\": function_name,\n",
    "                        \"content\": function_response,\n",
    "                    }\n",
    "                )\n",
    "            second_response = client.chat.completions.create(\n",
    "                model=\"gpt-3.5-turbo-0125\",\n",
    "                messages=messages,\n",
    "            )\n",
    "            response_message = second_response.choices[0].message\n",
    "            tool_calls = response_message.tool_calls\n",
    "    return response_message.content\n",
    "\n"
   ]
  },
  {
   "cell_type": "code",
   "execution_count": 89,
   "metadata": {},
   "outputs": [
    {
     "name": "stdout",
     "output_type": "stream",
     "text": [
      "Query from image: penne pasta recipe\n"
     ]
    },
    {
     "data": {
      "text/plain": [
       "'I found a video that can help you create a Penne Pasta recipe similar to the image you shared. Here is the video: [Penne Pasta Recipe](https://www.youtube.com/watch?v=z40Cbkeg9eI) \\n\\nThis recipe should help you recreate a delicious plate of Penne Pasta. Let me know if you have any more questions!'"
      ]
     },
     "execution_count": 89,
     "metadata": {},
     "output_type": "execute_result"
    }
   ],
   "source": [
    "run_conversation(\"How to create this pasta?\", \"/Users/shravanchaudhary/Documents/projects/personal/llm-tutor/pasta.jpg\")"
   ]
  },
  {
   "cell_type": "code",
   "execution_count": 90,
   "metadata": {},
   "outputs": [],
   "source": []
  },
  {
   "cell_type": "code",
   "execution_count": 91,
   "metadata": {},
   "outputs": [
    {
     "name": "stdout",
     "output_type": "stream",
     "text": [
      "Sure, I'd be happy to help! Could you provide me with the name or any specific details about the pasta dish you're interested in creating?\n"
     ]
    }
   ],
   "source": [
    "print(run_conversation(\"How to create this pasta?\"))"
   ]
  },
  {
   "cell_type": "code",
   "execution_count": 93,
   "metadata": {},
   "outputs": [
    {
     "name": "stdout",
     "output_type": "stream",
     "text": [
      "Query from image: penne pasta recipe\n",
      "Video links: ['https://www.youtube.com/watch?v=vxOzUCYJQ8M']\n",
      "Here is a video that demonstrates a penne pasta recipe: [Click here to watch the video](https://www.youtube.com/watch?v=vxOzUCYJQ8M)\n"
     ]
    }
   ],
   "source": [
    "print(run_conversation(\"This: \", image_path=\"/Users/shravanchaudhary/Documents/projects/personal/llm-tutor/pasta.jpg\", conversation_id=0))"
   ]
  },
  {
   "cell_type": "code",
   "execution_count": 6,
   "metadata": {},
   "outputs": [],
   "source": [
    "x = run_conversation()"
   ]
  },
  {
   "cell_type": "code",
   "execution_count": 7,
   "metadata": {},
   "outputs": [
    {
     "data": {
      "text/plain": [
       "[{'role': 'user',\n",
       "  'content': \"What's the weather like in San Francisco, Tokyo, and Paris?\"},\n",
       " ChatCompletionMessage(content=None, role='assistant', function_call=None, tool_calls=[ChatCompletionMessageToolCall(id='call_hPMRR3wKZhM7jCBfI2i1WVIr', function=Function(arguments='{\"location\": \"San Francisco\"}', name='get_current_weather'), type='function'), ChatCompletionMessageToolCall(id='call_2KVX3hUYWxympU3woA3vok0b', function=Function(arguments='{\"location\": \"Tokyo\"}', name='get_current_weather'), type='function'), ChatCompletionMessageToolCall(id='call_wfd5RbTOAzCEXYnbgwrZl4jb', function=Function(arguments='{\"location\": \"Paris\"}', name='get_current_weather'), type='function')]),\n",
       " {'tool_call_id': 'call_hPMRR3wKZhM7jCBfI2i1WVIr',\n",
       "  'role': 'tool',\n",
       "  'name': 'get_current_weather',\n",
       "  'content': '{\"location\": \"San Francisco\", \"temperature\": \"72\", \"unit\": null}'},\n",
       " {'tool_call_id': 'call_2KVX3hUYWxympU3woA3vok0b',\n",
       "  'role': 'tool',\n",
       "  'name': 'get_current_weather',\n",
       "  'content': '{\"location\": \"Tokyo\", \"temperature\": \"10\", \"unit\": null}'},\n",
       " {'tool_call_id': 'call_wfd5RbTOAzCEXYnbgwrZl4jb',\n",
       "  'role': 'tool',\n",
       "  'name': 'get_current_weather',\n",
       "  'content': '{\"location\": \"Paris\", \"temperature\": \"22\", \"unit\": null}'}]"
      ]
     },
     "execution_count": 7,
     "metadata": {},
     "output_type": "execute_result"
    }
   ],
   "source": [
    "x"
   ]
  },
  {
   "cell_type": "code",
   "execution_count": null,
   "metadata": {},
   "outputs": [],
   "source": []
  }
 ],
 "metadata": {
  "kernelspec": {
   "display_name": "venv",
   "language": "python",
   "name": "python3"
  },
  "language_info": {
   "codemirror_mode": {
    "name": "ipython",
    "version": 3
   },
   "file_extension": ".py",
   "mimetype": "text/x-python",
   "name": "python",
   "nbconvert_exporter": "python",
   "pygments_lexer": "ipython3",
   "version": "3.12.2"
  }
 },
 "nbformat": 4,
 "nbformat_minor": 2
}
